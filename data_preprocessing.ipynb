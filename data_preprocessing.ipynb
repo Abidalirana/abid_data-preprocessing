{
 "cells": [
  {
   "cell_type": "markdown",
   "id": "7f686767-a78e-428d-93f0-a91bfae8191b",
   "metadata": {},
   "source": [
    "# <h1 style=\"color:red\"> DATA Prepressing Before Putting Data into  </h1>"
   ]
  },
  {
   "cell_type": "code",
   "execution_count": 6,
   "id": "32d3e043-1f9c-4bc6-9c0d-7ae32af4310f",
   "metadata": {},
   "outputs": [],
   "source": [
    "import pandas as pd                                      #1\n",
    "from scipy import stats\n",
    "from warnings import filterwarnings\n",
    "filterwarnings('ignore')"
   ]
  },
  {
   "cell_type": "code",
   "execution_count": 9,
   "id": "7b61f4fa-ab17-400f-be4f-60ede51a15a4",
   "metadata": {},
   "outputs": [
    {
     "data": {
      "text/html": [
       "<div>\n",
       "<style scoped>\n",
       "    .dataframe tbody tr th:only-of-type {\n",
       "        vertical-align: middle;\n",
       "    }\n",
       "\n",
       "    .dataframe tbody tr th {\n",
       "        vertical-align: top;\n",
       "    }\n",
       "\n",
       "    .dataframe thead th {\n",
       "        text-align: right;\n",
       "    }\n",
       "</style>\n",
       "<table border=\"1\" class=\"dataframe\">\n",
       "  <thead>\n",
       "    <tr style=\"text-align: right;\">\n",
       "      <th></th>\n",
       "      <th>Id</th>\n",
       "      <th>Name</th>\n",
       "      <th>Age</th>\n",
       "      <th>Gender</th>\n",
       "      <th>Salary</th>\n",
       "      <th>Joining Date</th>\n",
       "      <th>Is Active</th>\n",
       "      <th>Comments</th>\n",
       "    </tr>\n",
       "  </thead>\n",
       "  <tbody>\n",
       "    <tr>\n",
       "      <th>0</th>\n",
       "      <td>1</td>\n",
       "      <td>Ashley Frye</td>\n",
       "      <td>21</td>\n",
       "      <td>Other</td>\n",
       "      <td>30940.67</td>\n",
       "      <td>12/20/2018</td>\n",
       "      <td>True</td>\n",
       "      <td>Beautiful key throughout factor trial who be.</td>\n",
       "    </tr>\n",
       "    <tr>\n",
       "      <th>1</th>\n",
       "      <td>2</td>\n",
       "      <td>Thomas Williams</td>\n",
       "      <td>57</td>\n",
       "      <td>Female</td>\n",
       "      <td>39906.95</td>\n",
       "      <td>5/10/2020</td>\n",
       "      <td>False</td>\n",
       "      <td>Moment owner study case.</td>\n",
       "    </tr>\n",
       "    <tr>\n",
       "      <th>2</th>\n",
       "      <td>3</td>\n",
       "      <td>Jesus Robertson</td>\n",
       "      <td>40</td>\n",
       "      <td>Male</td>\n",
       "      <td>34504.80</td>\n",
       "      <td>10/7/2023</td>\n",
       "      <td>False</td>\n",
       "      <td>Tree manager citizen heavy its long participant.</td>\n",
       "    </tr>\n",
       "    <tr>\n",
       "      <th>3</th>\n",
       "      <td>4</td>\n",
       "      <td>Rachel Burke</td>\n",
       "      <td>63</td>\n",
       "      <td>Male</td>\n",
       "      <td>80693.59</td>\n",
       "      <td>4/2/2019</td>\n",
       "      <td>False</td>\n",
       "      <td>Bank cause clear.</td>\n",
       "    </tr>\n",
       "    <tr>\n",
       "      <th>4</th>\n",
       "      <td>5</td>\n",
       "      <td>Mario Phillips</td>\n",
       "      <td>46</td>\n",
       "      <td>Female</td>\n",
       "      <td>48468.47</td>\n",
       "      <td>8/20/2016</td>\n",
       "      <td>False</td>\n",
       "      <td>Focus entire energy save official newspaper.</td>\n",
       "    </tr>\n",
       "  </tbody>\n",
       "</table>\n",
       "</div>"
      ],
      "text/plain": [
       "   Id             Name  Age  Gender    Salary Joining Date  Is Active  \\\n",
       "0   1      Ashley Frye   21   Other  30940.67   12/20/2018       True   \n",
       "1   2  Thomas Williams   57  Female  39906.95    5/10/2020      False   \n",
       "2   3  Jesus Robertson   40    Male  34504.80    10/7/2023      False   \n",
       "3   4     Rachel Burke   63    Male  80693.59     4/2/2019      False   \n",
       "4   5   Mario Phillips   46  Female  48468.47    8/20/2016      False   \n",
       "\n",
       "                                           Comments  \n",
       "0     Beautiful key throughout factor trial who be.  \n",
       "1                          Moment owner study case.  \n",
       "2  Tree manager citizen heavy its long participant.  \n",
       "3                                 Bank cause clear.  \n",
       "4      Focus entire energy save official newspaper.  "
      ]
     },
     "execution_count": 9,
     "metadata": {},
     "output_type": "execute_result"
    }
   ],
   "source": [
    "df=pd.read_csv(r\"C:\\abid_things\\data_sample.csv\")\n",
    "df.head()"
   ]
  },
  {
   "cell_type": "code",
   "execution_count": 11,
   "id": "546cb117-6370-4c01-96f5-35c9c4d1a8cc",
   "metadata": {},
   "outputs": [
    {
     "data": {
      "text/plain": [
       "Id                int64\n",
       "Name             object\n",
       "Age               int64\n",
       "Gender           object\n",
       "Salary          float64\n",
       "Joining Date     object\n",
       "Is Active          bool\n",
       "Comments         object\n",
       "dtype: object"
      ]
     },
     "execution_count": 11,
     "metadata": {},
     "output_type": "execute_result"
    }
   ],
   "source": [
    "df.dtypes                                             "
   ]
  },
  {
   "cell_type": "markdown",
   "id": "1afa25ef-eb36-4c10-9658-09ee781c49fc",
   "metadata": {},
   "source": [
    "# 2 remove duplictes"
   ]
  },
  {
   "cell_type": "code",
   "execution_count": 16,
   "id": "5472b876-0698-4598-9c0a-7e32fecd1eb1",
   "metadata": {},
   "outputs": [
    {
     "data": {
      "text/html": [
       "<div>\n",
       "<style scoped>\n",
       "    .dataframe tbody tr th:only-of-type {\n",
       "        vertical-align: middle;\n",
       "    }\n",
       "\n",
       "    .dataframe tbody tr th {\n",
       "        vertical-align: top;\n",
       "    }\n",
       "\n",
       "    .dataframe thead th {\n",
       "        text-align: right;\n",
       "    }\n",
       "</style>\n",
       "<table border=\"1\" class=\"dataframe\">\n",
       "  <thead>\n",
       "    <tr style=\"text-align: right;\">\n",
       "      <th></th>\n",
       "      <th>Id</th>\n",
       "      <th>Name</th>\n",
       "      <th>Age</th>\n",
       "      <th>Gender</th>\n",
       "      <th>Salary</th>\n",
       "      <th>Joining Date</th>\n",
       "      <th>Is Active</th>\n",
       "      <th>Comments</th>\n",
       "    </tr>\n",
       "  </thead>\n",
       "  <tbody>\n",
       "    <tr>\n",
       "      <th>0</th>\n",
       "      <td>1</td>\n",
       "      <td>Ashley Frye</td>\n",
       "      <td>21</td>\n",
       "      <td>Other</td>\n",
       "      <td>30940.67</td>\n",
       "      <td>12/20/2018</td>\n",
       "      <td>True</td>\n",
       "      <td>Beautiful key throughout factor trial who be.</td>\n",
       "    </tr>\n",
       "    <tr>\n",
       "      <th>1</th>\n",
       "      <td>2</td>\n",
       "      <td>Thomas Williams</td>\n",
       "      <td>57</td>\n",
       "      <td>Female</td>\n",
       "      <td>39906.95</td>\n",
       "      <td>5/10/2020</td>\n",
       "      <td>False</td>\n",
       "      <td>Moment owner study case.</td>\n",
       "    </tr>\n",
       "    <tr>\n",
       "      <th>2</th>\n",
       "      <td>3</td>\n",
       "      <td>Jesus Robertson</td>\n",
       "      <td>40</td>\n",
       "      <td>Male</td>\n",
       "      <td>34504.80</td>\n",
       "      <td>10/7/2023</td>\n",
       "      <td>False</td>\n",
       "      <td>Tree manager citizen heavy its long participant.</td>\n",
       "    </tr>\n",
       "    <tr>\n",
       "      <th>3</th>\n",
       "      <td>4</td>\n",
       "      <td>Rachel Burke</td>\n",
       "      <td>63</td>\n",
       "      <td>Male</td>\n",
       "      <td>80693.59</td>\n",
       "      <td>4/2/2019</td>\n",
       "      <td>False</td>\n",
       "      <td>Bank cause clear.</td>\n",
       "    </tr>\n",
       "    <tr>\n",
       "      <th>4</th>\n",
       "      <td>5</td>\n",
       "      <td>Mario Phillips</td>\n",
       "      <td>46</td>\n",
       "      <td>Female</td>\n",
       "      <td>48468.47</td>\n",
       "      <td>8/20/2016</td>\n",
       "      <td>False</td>\n",
       "      <td>Focus entire energy save official newspaper.</td>\n",
       "    </tr>\n",
       "  </tbody>\n",
       "</table>\n",
       "</div>"
      ],
      "text/plain": [
       "   Id             Name  Age  Gender    Salary Joining Date  Is Active  \\\n",
       "0   1      Ashley Frye   21   Other  30940.67   12/20/2018       True   \n",
       "1   2  Thomas Williams   57  Female  39906.95    5/10/2020      False   \n",
       "2   3  Jesus Robertson   40    Male  34504.80    10/7/2023      False   \n",
       "3   4     Rachel Burke   63    Male  80693.59     4/2/2019      False   \n",
       "4   5   Mario Phillips   46  Female  48468.47    8/20/2016      False   \n",
       "\n",
       "                                           Comments  \n",
       "0     Beautiful key throughout factor trial who be.  \n",
       "1                          Moment owner study case.  \n",
       "2  Tree manager citizen heavy its long participant.  \n",
       "3                                 Bank cause clear.  \n",
       "4      Focus entire energy save official newspaper.  "
      ]
     },
     "execution_count": 16,
     "metadata": {},
     "output_type": "execute_result"
    }
   ],
   "source": [
    "df_cleaned=df.drop_duplicates()\n",
    "df_cleaned.head()"
   ]
  },
  {
   "cell_type": "markdown",
   "id": "f87464c1-ed7b-4acf-afa5-47711c88b77c",
   "metadata": {},
   "source": [
    "# 3 handling misiing values"
   ]
  },
  {
   "cell_type": "code",
   "execution_count": 17,
   "id": "b12d0992-bce1-473c-bebd-5249e87b41bd",
   "metadata": {},
   "outputs": [
    {
     "data": {
      "text/html": [
       "<div>\n",
       "<style scoped>\n",
       "    .dataframe tbody tr th:only-of-type {\n",
       "        vertical-align: middle;\n",
       "    }\n",
       "\n",
       "    .dataframe tbody tr th {\n",
       "        vertical-align: top;\n",
       "    }\n",
       "\n",
       "    .dataframe thead th {\n",
       "        text-align: right;\n",
       "    }\n",
       "</style>\n",
       "<table border=\"1\" class=\"dataframe\">\n",
       "  <thead>\n",
       "    <tr style=\"text-align: right;\">\n",
       "      <th></th>\n",
       "      <th>Id</th>\n",
       "      <th>Name</th>\n",
       "      <th>Age</th>\n",
       "      <th>Gender</th>\n",
       "      <th>Salary</th>\n",
       "      <th>Joining Date</th>\n",
       "      <th>Is Active</th>\n",
       "      <th>Comments</th>\n",
       "    </tr>\n",
       "  </thead>\n",
       "  <tbody>\n",
       "    <tr>\n",
       "      <th>0</th>\n",
       "      <td>False</td>\n",
       "      <td>False</td>\n",
       "      <td>False</td>\n",
       "      <td>False</td>\n",
       "      <td>False</td>\n",
       "      <td>False</td>\n",
       "      <td>False</td>\n",
       "      <td>False</td>\n",
       "    </tr>\n",
       "    <tr>\n",
       "      <th>1</th>\n",
       "      <td>False</td>\n",
       "      <td>False</td>\n",
       "      <td>False</td>\n",
       "      <td>False</td>\n",
       "      <td>False</td>\n",
       "      <td>False</td>\n",
       "      <td>False</td>\n",
       "      <td>False</td>\n",
       "    </tr>\n",
       "    <tr>\n",
       "      <th>2</th>\n",
       "      <td>False</td>\n",
       "      <td>False</td>\n",
       "      <td>False</td>\n",
       "      <td>False</td>\n",
       "      <td>False</td>\n",
       "      <td>False</td>\n",
       "      <td>False</td>\n",
       "      <td>False</td>\n",
       "    </tr>\n",
       "    <tr>\n",
       "      <th>3</th>\n",
       "      <td>False</td>\n",
       "      <td>False</td>\n",
       "      <td>False</td>\n",
       "      <td>False</td>\n",
       "      <td>False</td>\n",
       "      <td>False</td>\n",
       "      <td>False</td>\n",
       "      <td>False</td>\n",
       "    </tr>\n",
       "    <tr>\n",
       "      <th>4</th>\n",
       "      <td>False</td>\n",
       "      <td>False</td>\n",
       "      <td>False</td>\n",
       "      <td>False</td>\n",
       "      <td>False</td>\n",
       "      <td>False</td>\n",
       "      <td>False</td>\n",
       "      <td>False</td>\n",
       "    </tr>\n",
       "    <tr>\n",
       "      <th>...</th>\n",
       "      <td>...</td>\n",
       "      <td>...</td>\n",
       "      <td>...</td>\n",
       "      <td>...</td>\n",
       "      <td>...</td>\n",
       "      <td>...</td>\n",
       "      <td>...</td>\n",
       "      <td>...</td>\n",
       "    </tr>\n",
       "    <tr>\n",
       "      <th>995</th>\n",
       "      <td>False</td>\n",
       "      <td>False</td>\n",
       "      <td>False</td>\n",
       "      <td>False</td>\n",
       "      <td>False</td>\n",
       "      <td>False</td>\n",
       "      <td>False</td>\n",
       "      <td>False</td>\n",
       "    </tr>\n",
       "    <tr>\n",
       "      <th>996</th>\n",
       "      <td>False</td>\n",
       "      <td>False</td>\n",
       "      <td>False</td>\n",
       "      <td>False</td>\n",
       "      <td>False</td>\n",
       "      <td>False</td>\n",
       "      <td>False</td>\n",
       "      <td>False</td>\n",
       "    </tr>\n",
       "    <tr>\n",
       "      <th>997</th>\n",
       "      <td>False</td>\n",
       "      <td>False</td>\n",
       "      <td>False</td>\n",
       "      <td>False</td>\n",
       "      <td>False</td>\n",
       "      <td>False</td>\n",
       "      <td>False</td>\n",
       "      <td>False</td>\n",
       "    </tr>\n",
       "    <tr>\n",
       "      <th>998</th>\n",
       "      <td>False</td>\n",
       "      <td>False</td>\n",
       "      <td>False</td>\n",
       "      <td>False</td>\n",
       "      <td>False</td>\n",
       "      <td>False</td>\n",
       "      <td>False</td>\n",
       "      <td>False</td>\n",
       "    </tr>\n",
       "    <tr>\n",
       "      <th>999</th>\n",
       "      <td>False</td>\n",
       "      <td>False</td>\n",
       "      <td>False</td>\n",
       "      <td>False</td>\n",
       "      <td>False</td>\n",
       "      <td>False</td>\n",
       "      <td>False</td>\n",
       "      <td>False</td>\n",
       "    </tr>\n",
       "  </tbody>\n",
       "</table>\n",
       "<p>1000 rows × 8 columns</p>\n",
       "</div>"
      ],
      "text/plain": [
       "        Id   Name    Age  Gender  Salary  Joining Date  Is Active  Comments\n",
       "0    False  False  False   False   False         False      False     False\n",
       "1    False  False  False   False   False         False      False     False\n",
       "2    False  False  False   False   False         False      False     False\n",
       "3    False  False  False   False   False         False      False     False\n",
       "4    False  False  False   False   False         False      False     False\n",
       "..     ...    ...    ...     ...     ...           ...        ...       ...\n",
       "995  False  False  False   False   False         False      False     False\n",
       "996  False  False  False   False   False         False      False     False\n",
       "997  False  False  False   False   False         False      False     False\n",
       "998  False  False  False   False   False         False      False     False\n",
       "999  False  False  False   False   False         False      False     False\n",
       "\n",
       "[1000 rows x 8 columns]"
      ]
     },
     "execution_count": 17,
     "metadata": {},
     "output_type": "execute_result"
    }
   ],
   "source": [
    " df.isnull()           #3 check if any missing values"
   ]
  },
  {
   "cell_type": "code",
   "execution_count": 19,
   "id": "8c7fc523-6b77-4b84-9226-ebbcca148cef",
   "metadata": {},
   "outputs": [
    {
     "data": {
      "text/plain": [
       "Id              0\n",
       "Name            0\n",
       "Age             0\n",
       "Gender          0\n",
       "Salary          0\n",
       "Joining Date    0\n",
       "Is Active       0\n",
       "Comments        0\n",
       "dtype: int64"
      ]
     },
     "execution_count": 19,
     "metadata": {},
     "output_type": "execute_result"
    }
   ],
   "source": [
    "df_cleaned.isnull().sum()                         #for cheking remaining values"
   ]
  },
  {
   "cell_type": "code",
   "execution_count": 23,
   "id": "c31865e7-82d0-427a-ad8e-58103335c8db",
   "metadata": {},
   "outputs": [
    {
     "data": {
      "text/plain": [
       "Id              0\n",
       "Name            0\n",
       "Age             0\n",
       "Gender          0\n",
       "Salary          0\n",
       "Joining Date    0\n",
       "Is Active       0\n",
       "Comments        0\n",
       "dtype: int64"
      ]
     },
     "execution_count": 23,
     "metadata": {},
     "output_type": "execute_result"
    }
   ],
   "source": [
    "df_cleaned['Age'].fillna(df_cleaned['Age'].mean(),inplace=True)          \n",
    "df_cleaned['Salary'].fillna(df_cleaned['Salary'].mean(),inplace=True)\n",
    "df_cleaned.isnull().sum()\n",
    "\n",
    "#inplace mean dnt make new thing make shuffling insdie of it\n"
   ]
  },
  {
   "cell_type": "markdown",
   "id": "e6dda278-14eb-45cc-adfd-4af720c7c4c5",
   "metadata": {},
   "source": [
    "# 4 Normalize and scaling data\n",
    "## * normalize change data into 0-1, 1 to -1\n",
    "## * scaling 2 methos \n",
    "## 1.minMaxcaler\n",
    "## 2 standardization scaling"
   ]
  },
  {
   "cell_type": "code",
   "execution_count": 32,
   "id": "fb5a7d97-206a-4dab-a818-d31c05742f2b",
   "metadata": {},
   "outputs": [
    {
     "data": {
      "text/html": [
       "<div>\n",
       "<style scoped>\n",
       "    .dataframe tbody tr th:only-of-type {\n",
       "        vertical-align: middle;\n",
       "    }\n",
       "\n",
       "    .dataframe tbody tr th {\n",
       "        vertical-align: top;\n",
       "    }\n",
       "\n",
       "    .dataframe thead th {\n",
       "        text-align: right;\n",
       "    }\n",
       "</style>\n",
       "<table border=\"1\" class=\"dataframe\">\n",
       "  <thead>\n",
       "    <tr style=\"text-align: right;\">\n",
       "      <th></th>\n",
       "      <th>Age</th>\n",
       "      <th>Salary</th>\n",
       "    </tr>\n",
       "  </thead>\n",
       "  <tbody>\n",
       "    <tr>\n",
       "      <th>0</th>\n",
       "      <td>0.063830</td>\n",
       "      <td>0.010235</td>\n",
       "    </tr>\n",
       "    <tr>\n",
       "      <th>1</th>\n",
       "      <td>0.829787</td>\n",
       "      <td>0.109955</td>\n",
       "    </tr>\n",
       "    <tr>\n",
       "      <th>2</th>\n",
       "      <td>0.468085</td>\n",
       "      <td>0.049874</td>\n",
       "    </tr>\n",
       "    <tr>\n",
       "      <th>3</th>\n",
       "      <td>0.957447</td>\n",
       "      <td>0.563572</td>\n",
       "    </tr>\n",
       "    <tr>\n",
       "      <th>4</th>\n",
       "      <td>0.595745</td>\n",
       "      <td>0.205174</td>\n",
       "    </tr>\n",
       "  </tbody>\n",
       "</table>\n",
       "</div>"
      ],
      "text/plain": [
       "        Age    Salary\n",
       "0  0.063830  0.010235\n",
       "1  0.829787  0.109955\n",
       "2  0.468085  0.049874\n",
       "3  0.957447  0.563572\n",
       "4  0.595745  0.205174"
      ]
     },
     "execution_count": 32,
     "metadata": {},
     "output_type": "execute_result"
    }
   ],
   "source": [
    "from sklearn.preprocessing import MinMaxScaler\n",
    "\n",
    "scaler = MinMaxScaler()\n",
    "df_cleaned[['Age', 'Salary']] = scaler.fit_transform(df_cleaned[['Age', 'Salary']])\n",
    "df_cleaned[['Age', 'Salary']].head()\n"
   ]
  },
  {
   "cell_type": "markdown",
   "id": "5951b857-bce1-47dd-b5b3-618b98ac4387",
   "metadata": {},
   "source": [
    "# 5 SCALING "
   ]
  },
  {
   "cell_type": "code",
   "execution_count": 37,
   "id": "dbe7b6e5-a5cd-49e1-a814-f024125f715b",
   "metadata": {},
   "outputs": [
    {
     "data": {
      "text/html": [
       "<div>\n",
       "<style scoped>\n",
       "    .dataframe tbody tr th:only-of-type {\n",
       "        vertical-align: middle;\n",
       "    }\n",
       "\n",
       "    .dataframe tbody tr th {\n",
       "        vertical-align: top;\n",
       "    }\n",
       "\n",
       "    .dataframe thead th {\n",
       "        text-align: right;\n",
       "    }\n",
       "</style>\n",
       "<table border=\"1\" class=\"dataframe\">\n",
       "  <thead>\n",
       "    <tr style=\"text-align: right;\">\n",
       "      <th></th>\n",
       "      <th>Age</th>\n",
       "      <th>Salary</th>\n",
       "    </tr>\n",
       "  </thead>\n",
       "  <tbody>\n",
       "    <tr>\n",
       "      <th>0</th>\n",
       "      <td>-1.450748</td>\n",
       "      <td>-1.702878</td>\n",
       "    </tr>\n",
       "    <tr>\n",
       "      <th>1</th>\n",
       "      <td>1.162820</td>\n",
       "      <td>-1.352010</td>\n",
       "    </tr>\n",
       "    <tr>\n",
       "      <th>2</th>\n",
       "      <td>-0.071365</td>\n",
       "      <td>-1.563406</td>\n",
       "    </tr>\n",
       "    <tr>\n",
       "      <th>3</th>\n",
       "      <td>1.598414</td>\n",
       "      <td>0.244053</td>\n",
       "    </tr>\n",
       "    <tr>\n",
       "      <th>4</th>\n",
       "      <td>0.364230</td>\n",
       "      <td>-1.016980</td>\n",
       "    </tr>\n",
       "  </tbody>\n",
       "</table>\n",
       "</div>"
      ],
      "text/plain": [
       "        Age    Salary\n",
       "0 -1.450748 -1.702878\n",
       "1  1.162820 -1.352010\n",
       "2 -0.071365 -1.563406\n",
       "3  1.598414  0.244053\n",
       "4  0.364230 -1.016980"
      ]
     },
     "execution_count": 37,
     "metadata": {},
     "output_type": "execute_result"
    }
   ],
   "source": [
    "from sklearn.preprocessing import StandardScaler\n",
    "\n",
    "scaler = StandardScaler()\n",
    "df_cleaned[['Age', 'Salary']] = scaler.fit_transform(df_cleaned[['Age', 'Salary']])\n",
    "df_cleaned[['Age', 'Salary']].head()\n"
   ]
  },
  {
   "cell_type": "markdown",
   "id": "ca4ef696-9efc-46dd-9e9f-96e9f83f8df5",
   "metadata": {},
   "source": [
    "# 6 ENCODING Categorial variable"
   ]
  },
  {
   "cell_type": "markdown",
   "id": "ce8c24f7-acb8-4646-a826-29de16577257",
   "metadata": {},
   "source": [
    "# <h1 style= \"color:red\"> label ncoding </h1>"
   ]
  },
  {
   "cell_type": "code",
   "execution_count": 38,
   "id": "a557d3ea-380a-4ce8-9dac-df8bd686422e",
   "metadata": {},
   "outputs": [],
   "source": [
    "#check data hirarchy change into numbers"
   ]
  },
  {
   "cell_type": "code",
   "execution_count": 40,
   "id": "0a87e475-1a37-4e88-8527-523c7441b5f7",
   "metadata": {},
   "outputs": [
    {
     "data": {
      "text/html": [
       "<div>\n",
       "<style scoped>\n",
       "    .dataframe tbody tr th:only-of-type {\n",
       "        vertical-align: middle;\n",
       "    }\n",
       "\n",
       "    .dataframe tbody tr th {\n",
       "        vertical-align: top;\n",
       "    }\n",
       "\n",
       "    .dataframe thead th {\n",
       "        text-align: right;\n",
       "    }\n",
       "</style>\n",
       "<table border=\"1\" class=\"dataframe\">\n",
       "  <thead>\n",
       "    <tr style=\"text-align: right;\">\n",
       "      <th></th>\n",
       "      <th>Gender_Encoded</th>\n",
       "    </tr>\n",
       "  </thead>\n",
       "  <tbody>\n",
       "    <tr>\n",
       "      <th>0</th>\n",
       "      <td>2</td>\n",
       "    </tr>\n",
       "    <tr>\n",
       "      <th>1</th>\n",
       "      <td>0</td>\n",
       "    </tr>\n",
       "    <tr>\n",
       "      <th>2</th>\n",
       "      <td>1</td>\n",
       "    </tr>\n",
       "    <tr>\n",
       "      <th>3</th>\n",
       "      <td>1</td>\n",
       "    </tr>\n",
       "    <tr>\n",
       "      <th>4</th>\n",
       "      <td>0</td>\n",
       "    </tr>\n",
       "  </tbody>\n",
       "</table>\n",
       "</div>"
      ],
      "text/plain": [
       "   Gender_Encoded\n",
       "0               2\n",
       "1               0\n",
       "2               1\n",
       "3               1\n",
       "4               0"
      ]
     },
     "execution_count": 40,
     "metadata": {},
     "output_type": "execute_result"
    }
   ],
   "source": [
    "from sklearn.preprocessing import LabelEncoder\n",
    "\n",
    "le = LabelEncoder()\n",
    "df_cleaned['Gender_Encoded'] = le.fit_transform(df_cleaned['Gender'])\n",
    "df_cleaned[['Gender_Encoded']].head()\n"
   ]
  },
  {
   "cell_type": "markdown",
   "id": "d7a20d9d-fb48-41cc-933c-7f6fd1989d96",
   "metadata": {},
   "source": [
    "# <h1 style=\"color:green\"> One Hot Encoding  </h1>"
   ]
  },
  {
   "cell_type": "code",
   "execution_count": 43,
   "id": "2bbac0cb-d7f2-49fa-87a2-93f934a4a4d1",
   "metadata": {},
   "outputs": [
    {
     "name": "stdout",
     "output_type": "stream",
     "text": [
      "   Id       Age    Salary  Is Active  Gender_Encoded  Name_Aaron Edwards  \\\n",
      "0   1 -1.450748 -1.702878       True               2               False   \n",
      "1   2  1.162820 -1.352010      False               0               False   \n",
      "2   3 -0.071365 -1.563406      False               1               False   \n",
      "3   4  1.598414  0.244053      False               1               False   \n",
      "4   5  0.364230 -1.016980      False               0               False   \n",
      "\n",
      "   Name_Aaron Lucas  Name_Aaron Newman  Name_Adam Campbell  Name_Adam Medina  \\\n",
      "0             False              False               False             False   \n",
      "1             False              False               False             False   \n",
      "2             False              False               False             False   \n",
      "3             False              False               False             False   \n",
      "4             False              False               False             False   \n",
      "\n",
      "   ...  Comments_Worker yourself question learn purpose feel indicate give.  \\\n",
      "0  ...                                              False                     \n",
      "1  ...                                              False                     \n",
      "2  ...                                              False                     \n",
      "3  ...                                              False                     \n",
      "4  ...                                              False                     \n",
      "\n",
      "   Comments_Writer become realize institution moment challenge.  \\\n",
      "0                                              False              \n",
      "1                                              False              \n",
      "2                                              False              \n",
      "3                                              False              \n",
      "4                                              False              \n",
      "\n",
      "   Comments_Writer or guess itself.  Comments_Yard PM we not law many.  \\\n",
      "0                             False                              False   \n",
      "1                             False                              False   \n",
      "2                             False                              False   \n",
      "3                             False                              False   \n",
      "4                             False                              False   \n",
      "\n",
      "   Comments_Yard data school analysis.  Comments_Yard store read rule plan.  \\\n",
      "0                                False                                False   \n",
      "1                                False                                False   \n",
      "2                                False                                False   \n",
      "3                                False                                False   \n",
      "4                                False                                False   \n",
      "\n",
      "   Comments_Yeah call site significant tree again second.  \\\n",
      "0                                              False        \n",
      "1                                              False        \n",
      "2                                              False        \n",
      "3                                              False        \n",
      "4                                              False        \n",
      "\n",
      "   Comments_Year ready item record someone instead debate.  \\\n",
      "0                                              False         \n",
      "1                                              False         \n",
      "2                                              False         \n",
      "3                                              False         \n",
      "4                                              False         \n",
      "\n",
      "   Comments_Young soldier choose.  Comments_Yourself bank run better go.  \n",
      "0                           False                                  False  \n",
      "1                           False                                  False  \n",
      "2                           False                                  False  \n",
      "3                           False                                  False  \n",
      "4                           False                                  False  \n",
      "\n",
      "[5 rows x 2872 columns]\n"
     ]
    }
   ],
   "source": [
    "import pandas as pd\n",
    "df_cleaned = pd.get_dummies(df_cleaned, drop_first=True)\n",
    "print(df_cleaned.head())\n"
   ]
  },
  {
   "cell_type": "markdown",
   "id": "3baad9a1-db94-480a-9e5c-87d1d160c7d1",
   "metadata": {},
   "source": [
    "# outliers "
   ]
  },
  {
   "cell_type": "code",
   "execution_count": 55,
   "id": "a69fefaf-3822-42bf-ad1a-84912334c426",
   "metadata": {},
   "outputs": [
    {
     "data": {
      "text/plain": [
       "<Axes: >"
      ]
     },
     "execution_count": 55,
     "metadata": {},
     "output_type": "execute_result"
    },
    {
     "data": {
      "image/png": "[encoded data removed]",
      "text/plain": [
       "<Figure size 640x480 with 1 Axes>"
      ]
     },
     "metadata": {},
     "output_type": "display_data"
    }
   ],
   "source": [
    "from scipy.stats import zscore\n",
    "import numpy as np\n",
    "\n",
    "z_scores = np.abs(zscore(df_cleaned[['Age', 'Salary']]))\n",
    "outliers = (z_scores > 3).any(axis=1)\n",
    "df_no_outliers=df_cleaned[outliers]\n",
    "df_no_outliers.head().plot\n",
    "df_no_outliers.head().plot()\n",
    "\n",
    "\n",
    "\n"
   ]
  },
  {
   "cell_type": "code",
   "execution_count": null,
   "id": "d5e8679d-542d-434b-b115-7e0fc01ae0cc",
   "metadata": {},
   "outputs": [],
   "source": []
  },
  {
   "cell_type": "code",
   "execution_count": null,
   "id": "8ba01aa2-4933-4ec6-ba55-b4652731cf24",
   "metadata": {},
   "outputs": [],
   "source": []
  }
 ],
 "metadata": {
  "kernelspec": {
   "display_name": "Python 3 (ipykernel)",
   "language": "python",
   "name": "python3"
  },
  "language_info": {
   "codemirror_mode": {
    "name": "ipython",
    "version": 3
   },
   "file_extension": ".py",
   "mimetype": "text/x-python",
   "name": "python",
   "nbconvert_exporter": "python",
   "pygments_lexer": "ipython3",
   "version": "3.13.2"
  }
 },
 "nbformat": 4,
 "nbformat_minor": 5
}
